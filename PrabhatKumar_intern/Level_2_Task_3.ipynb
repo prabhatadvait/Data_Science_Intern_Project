{
 "cells": [
  {
   "cell_type": "markdown",
   "id": "a95874d1-3b7a-443b-9cc7-e57e27f428c3",
   "metadata": {},
   "source": [
    "## Level 2 Task 3"
   ]
  },
  {
   "cell_type": "raw",
   "id": "c5ab04c0-3116-4197-82eb-c2e17292363c",
   "metadata": {},
   "source": [
    "# Importing the Libraries"
   ]
  },
  {
   "cell_type": "code",
   "execution_count": 1,
   "id": "5487fef0-154c-4c0a-9091-5c94562f4a69",
   "metadata": {},
   "outputs": [],
   "source": [
    "import numpy as np\n",
    "import pandas as pd\n",
    "import matplotlib.pyplot as plt\n",
    "import seaborn as sns"
   ]
  },
  {
   "cell_type": "raw",
   "id": "3cff199d-1d07-4782-a112-0ae77db6356b",
   "metadata": {},
   "source": [
    "# Load the Dataset"
   ]
  },
  {
   "cell_type": "code",
   "execution_count": 3,
   "id": "00620dd2-82a3-4e9f-af8c-013cc79cda92",
   "metadata": {},
   "outputs": [],
   "source": [
    "data = pd.read_csv('task1_level1.csv')"
   ]
  },
  {
   "cell_type": "code",
   "execution_count": 5,
   "id": "eb9acff5-ed82-4f45-8388-09b1db2caa14",
   "metadata": {},
   "outputs": [
    {
     "name": "stdout",
     "output_type": "stream",
     "text": [
      "Added 'Restaurant Name Length' feature.\n",
      "Added 'Address Length' feature.\n"
     ]
    }
   ],
   "source": [
    "#Extracting additional features\n",
    "data[\"Restaurant Name Length\"] = data[\"Restaurant Name\"].str.len()\n",
    "print(\"Added 'Restaurant Name Length' feature.\")\n",
    "\n",
    "data[\"Address Length\"] = data[\"Address\"].str.len()\n",
    "print(\"Added 'Address Length' feature.\")"
   ]
  },
  {
   "cell_type": "code",
   "execution_count": 11,
   "id": "15aa9b93-59e8-4100-8210-4c4039ad10cd",
   "metadata": {},
   "outputs": [
    {
     "name": "stdout",
     "output_type": "stream",
     "text": [
      "Added 'Has Table Booking_New' feature.\n"
     ]
    }
   ],
   "source": [
    "data[\"Has Table Booking_new\"] = data[\"Has Table booking\"].apply(lambda x: 1 if x.lower() == \"yes\" else 0)\n",
    "print(\"Added 'Has Table Booking_New' feature.\")"
   ]
  },
  {
   "cell_type": "code",
   "execution_count": 13,
   "id": "1911741e-c360-4446-9019-fc311d3095e7",
   "metadata": {},
   "outputs": [
    {
     "name": "stdout",
     "output_type": "stream",
     "text": [
      "Added 'Has Online Delivery' feature.\n"
     ]
    }
   ],
   "source": [
    "data[\"Has Online Delivery_new\"] = data[\"Has Online delivery\"].apply(lambda x: 1 if x.lower() == \"yes\" else 0)\n",
    "print(\"Added 'Has Online Delivery' feature.\")"
   ]
  },
  {
   "cell_type": "code",
   "execution_count": 15,
   "id": "12409f21-0e88-42a9-9736-80958d028621",
   "metadata": {},
   "outputs": [
    {
     "name": "stdout",
     "output_type": "stream",
     "text": [
      "\n",
      "Updated DataFrame:\n",
      "   Restaurant ID         Restaurant Name  Country Code              City  \\\n",
      "0        6317637        Le Petit Souffle           162       Makati City   \n",
      "1        6304287        Izakaya Kikufuji           162       Makati City   \n",
      "2        6300002  Heat - Edsa Shangri-La           162  Mandaluyong City   \n",
      "3        6318506                    Ooma           162  Mandaluyong City   \n",
      "4        6314302             Sambo Kojin           162  Mandaluyong City   \n",
      "\n",
      "                                             Address  \\\n",
      "0  Third Floor, Century City Mall, Kalayaan Avenu...   \n",
      "1  Little Tokyo, 2277 Chino Roces Avenue, Legaspi...   \n",
      "2  Edsa Shangri-La, 1 Garden Way, Ortigas, Mandal...   \n",
      "3  Third Floor, Mega Fashion Hall, SM Megamall, O...   \n",
      "4  Third Floor, Mega Atrium, SM Megamall, Ortigas...   \n",
      "\n",
      "                                     Locality  \\\n",
      "0   Century City Mall, Poblacion, Makati City   \n",
      "1  Little Tokyo, Legaspi Village, Makati City   \n",
      "2  Edsa Shangri-La, Ortigas, Mandaluyong City   \n",
      "3      SM Megamall, Ortigas, Mandaluyong City   \n",
      "4      SM Megamall, Ortigas, Mandaluyong City   \n",
      "\n",
      "                                    Locality Verbose   Longitude   Latitude  \\\n",
      "0  Century City Mall, Poblacion, Makati City, Mak...  121.027535  14.565443   \n",
      "1  Little Tokyo, Legaspi Village, Makati City, Ma...  121.014101  14.553708   \n",
      "2  Edsa Shangri-La, Ortigas, Mandaluyong City, Ma...  121.056831  14.581404   \n",
      "3  SM Megamall, Ortigas, Mandaluyong City, Mandal...  121.056475  14.585318   \n",
      "4  SM Megamall, Ortigas, Mandaluyong City, Mandal...  121.057508  14.584450   \n",
      "\n",
      "                           Cuisines  ...  Switch to order menu Price range  \\\n",
      "0        French, Japanese, Desserts  ...                    No           3   \n",
      "1                          Japanese  ...                    No           3   \n",
      "2  Seafood, Asian, Filipino, Indian  ...                    No           4   \n",
      "3                   Japanese, Sushi  ...                    No           4   \n",
      "4                  Japanese, Korean  ...                    No           4   \n",
      "\n",
      "  Aggregate rating Rating color Rating text Votes  Restaurant Name Length  \\\n",
      "0              4.8   Dark Green   Excellent   314                      16   \n",
      "1              4.5   Dark Green   Excellent   591                      16   \n",
      "2              4.4        Green   Very Good   270                      22   \n",
      "3              4.9   Dark Green   Excellent   365                       4   \n",
      "4              4.8   Dark Green   Excellent   229                      11   \n",
      "\n",
      "   Address Length Has Table Booking_new Has Online Delivery_new  \n",
      "0              71                     1                       0  \n",
      "1              67                     1                       0  \n",
      "2              56                     1                       0  \n",
      "3              70                     0                       0  \n",
      "4              64                     1                       0  \n",
      "\n",
      "[5 rows x 25 columns]\n"
     ]
    }
   ],
   "source": [
    "print(\"\\nUpdated DataFrame:\")\n",
    "print(data.head())"
   ]
  }
 ],
 "metadata": {
  "kernelspec": {
   "display_name": "Python [conda env:base] *",
   "language": "python",
   "name": "conda-base-py"
  },
  "language_info": {
   "codemirror_mode": {
    "name": "ipython",
    "version": 3
   },
   "file_extension": ".py",
   "mimetype": "text/x-python",
   "name": "python",
   "nbconvert_exporter": "python",
   "pygments_lexer": "ipython3",
   "version": "3.12.7"
  }
 },
 "nbformat": 4,
 "nbformat_minor": 5
}
