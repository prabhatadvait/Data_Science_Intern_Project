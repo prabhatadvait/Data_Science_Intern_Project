{
 "cells": [
  {
   "cell_type": "markdown",
   "id": "141d7c3e-b9fb-4632-bb22-26d28f0398a1",
   "metadata": {},
   "source": [
    "## Level 1 Task 1 "
   ]
  },
  {
   "cell_type": "markdown",
   "id": "9039abbe-2ffb-40d3-92e0-f429b5d76c58",
   "metadata": {},
   "source": [
    "#importing the Libraries"
   ]
  },
  {
   "cell_type": "code",
   "execution_count": 4,
   "id": "c03f2f29-34f6-4cd0-8468-25ceccdc487e",
   "metadata": {},
   "outputs": [],
   "source": [
    "import numpy as np\n",
    "import pandas as pd\n",
    "import matplotlib.pyplot as plt"
   ]
  },
  {
   "cell_type": "markdown",
   "id": "53c1fd55-166f-489c-9a9e-c6c6daba4951",
   "metadata": {},
   "source": [
    "#Loading the Dataset"
   ]
  },
  {
   "cell_type": "code",
   "execution_count": 6,
   "id": "bd1c9330-0a6e-493c-adee-4a6617b81a49",
   "metadata": {
    "scrolled": true
   },
   "outputs": [],
   "source": [
    "data = pd.read_csv('Dataset.csv')"
   ]
  },
  {
   "cell_type": "raw",
   "id": "7b4ca59b-b038-4c2b-8491-8dccb229eb31",
   "metadata": {},
   "source": [
    "# Number of Rows and Columns"
   ]
  },
  {
   "cell_type": "code",
   "execution_count": 10,
   "id": "75a16a10-b586-499d-9cc5-bd9f28a0ce1c",
   "metadata": {},
   "outputs": [
    {
     "name": "stdout",
     "output_type": "stream",
     "text": [
      "no. of rows: 9551 \n",
      "no. of columns: 21\n"
     ]
    }
   ],
   "source": [
    "rows, columns = data.shape\n",
    "print(f\"no. of rows: {rows} \\nno. of columns: {columns}\")"
   ]
  },
  {
   "cell_type": "raw",
   "id": "cf95aa1b-41fc-4272-b31e-22fe538f117b",
   "metadata": {},
   "source": [
    "# Missing Values and handling missing values"
   ]
  },
  {
   "cell_type": "code",
   "execution_count": 12,
   "id": "2562c90c-d767-4a84-a902-befebf55eb88",
   "metadata": {},
   "outputs": [
    {
     "name": "stdout",
     "output_type": "stream",
     "text": [
      "Index(['Restaurant ID', 'Country Code', 'Longitude', 'Latitude',\n",
      "       'Average Cost for two', 'Price range', 'Aggregate rating', 'Votes'],\n",
      "      dtype='object')\n",
      "Index(['Restaurant Name', 'City', 'Address', 'Locality', 'Locality Verbose',\n",
      "       'Cuisines', 'Currency', 'Has Table booking', 'Has Online delivery',\n",
      "       'Is delivering now', 'Switch to order menu', 'Rating color',\n",
      "       'Rating text'],\n",
      "      dtype='object')\n",
      "Restaurant ID           0\n",
      "Restaurant Name         0\n",
      "Country Code            0\n",
      "City                    0\n",
      "Address                 0\n",
      "Locality                0\n",
      "Locality Verbose        0\n",
      "Longitude               0\n",
      "Latitude                0\n",
      "Cuisines                0\n",
      "Average Cost for two    0\n",
      "Currency                0\n",
      "Has Table booking       0\n",
      "Has Online delivery     0\n",
      "Is delivering now       0\n",
      "Switch to order menu    0\n",
      "Price range             0\n",
      "Aggregate rating        0\n",
      "Rating color            0\n",
      "Rating text             0\n",
      "Votes                   0\n",
      "dtype: int64\n"
     ]
    }
   ],
   "source": [
    "missing_val = data.isnull().sum\n",
    "\n",
    "#Scikit-learn\n",
    "from sklearn.impute import SimpleImputer\n",
    "imputer = SimpleImputer(missing_values = np.nan, strategy = 'mean')\n",
    "#Numeric missing\n",
    "x = data.select_dtypes(include=[np.number]).columns\n",
    "print(x)\n",
    "data[x] = imputer.fit_transform(data[x])\n",
    "\n",
    "#Categorical missing\n",
    "cat_x = data.select_dtypes(include=['object']).columns\n",
    "print(cat_x)\n",
    "imputer_cat = SimpleImputer(strategy='most_frequent')\n",
    "data[cat_x] = imputer_cat.fit_transform(data[cat_x])\n",
    "print(data.isnull().sum())"
   ]
  },
  {
   "cell_type": "raw",
   "id": "2efa21a2-ba1b-4e93-b013-d187ed7044f5",
   "metadata": {},
   "source": [
    "# Data Type Conversion"
   ]
  },
  {
   "cell_type": "code",
   "execution_count": 14,
   "id": "cbc109ff-0d38-4c8b-ae3d-0096f953ebd8",
   "metadata": {},
   "outputs": [
    {
     "name": "stdout",
     "output_type": "stream",
     "text": [
      "Restaurant ID           float64\n",
      "Restaurant Name          object\n",
      "Country Code            float64\n",
      "City                     object\n",
      "Address                  object\n",
      "Locality                 object\n",
      "Locality Verbose         object\n",
      "Longitude               float64\n",
      "Latitude                float64\n",
      "Cuisines                 object\n",
      "Average Cost for two    float64\n",
      "Currency                 object\n",
      "Has Table booking        object\n",
      "Has Online delivery      object\n",
      "Is delivering now        object\n",
      "Switch to order menu     object\n",
      "Price range             float64\n",
      "Aggregate rating        float64\n",
      "Rating color             object\n",
      "Rating text              object\n",
      "Votes                   float64\n",
      "dtype: object\n",
      "Restaurant ID             int64\n",
      "Restaurant Name          object\n",
      "Country Code              int64\n",
      "City                     object\n",
      "Address                  object\n",
      "Locality                 object\n",
      "Locality Verbose         object\n",
      "Longitude               float64\n",
      "Latitude                float64\n",
      "Cuisines                 object\n",
      "Average Cost for two      int64\n",
      "Currency                 object\n",
      "Has Table booking        object\n",
      "Has Online delivery      object\n",
      "Is delivering now        object\n",
      "Switch to order menu     object\n",
      "Price range               int64\n",
      "Aggregate rating        float64\n",
      "Rating color             object\n",
      "Rating text              object\n",
      "Votes                     int64\n",
      "dtype: object\n"
     ]
    }
   ],
   "source": [
    "print(data.dtypes)\n",
    "data[['Restaurant ID', 'Country Code', 'Average Cost for two', 'Price range', 'Votes']] = \\\n",
    "    data[['Restaurant ID', 'Country Code', 'Average Cost for two', 'Price range', 'Votes']].astype(int)\n",
    "print(data.dtypes)"
   ]
  },
  {
   "cell_type": "raw",
   "id": "b29c471f-af22-403d-b9ec-c27016b114bb",
   "metadata": {},
   "source": [
    "# Analyzing the Aggregate rating (target_variable)"
   ]
  },
  {
   "cell_type": "code",
   "execution_count": 16,
   "id": "64c3ab9e-7bbb-4c5f-9219-d30e4bec4355",
   "metadata": {},
   "outputs": [
    {
     "name": "stdout",
     "output_type": "stream",
     "text": [
      "count    9551.000000\n",
      "mean        2.666370\n",
      "std         1.516378\n",
      "min         0.000000\n",
      "25%         2.500000\n",
      "50%         3.200000\n",
      "75%         3.700000\n",
      "max         4.900000\n",
      "Name: Aggregate rating, dtype: float64\n"
     ]
    },
    {
     "data": {
      "image/png": "[encoded data removed]",
      "text/plain": [
       "<Figure size 640x480 with 1 Axes>"
      ]
     },
     "metadata": {},
     "output_type": "display_data"
    },
    {
     "name": "stdout",
     "output_type": "stream",
     "text": [
      "Aggregate rating\n",
      "0.0    2148\n",
      "3.2     522\n",
      "3.1     519\n",
      "3.4     498\n",
      "3.3     483\n",
      "3.5     480\n",
      "3.0     468\n",
      "3.6     458\n",
      "3.7     427\n",
      "3.8     400\n",
      "2.9     381\n",
      "3.9     335\n",
      "2.8     315\n",
      "4.1     274\n",
      "4.0     266\n",
      "2.7     250\n",
      "4.2     221\n",
      "2.6     191\n",
      "4.3     174\n",
      "4.4     144\n",
      "2.5     110\n",
      "4.5      95\n",
      "2.4      87\n",
      "4.6      78\n",
      "4.9      61\n",
      "2.3      47\n",
      "4.7      42\n",
      "2.2      27\n",
      "4.8      25\n",
      "2.1      15\n",
      "2.0       7\n",
      "1.9       2\n",
      "1.8       1\n",
      "Name: count, dtype: int64\n"
     ]
    }
   ],
   "source": [
    "target_var = 'Aggregate rating'\n",
    "if target_var in data.columns:\n",
    "    print(data[target_var].describe())\n",
    "    data[target_var].hist(bins=10)\n",
    "    plt.title(\"Distribution of Aggregrate Rating\")\n",
    "    plt.xlabel(\"Aggregating Rating\")\n",
    "    plt.ylabel(\"Frequency\")\n",
    "    plt.show()\n",
    "    print(data[target_var].value_counts())\n",
    "else:\n",
    "    print(\"Target column not found in data\")\n",
    "# class imbalance is 0.0 rating has count 2148 "
   ]
  },
  {
   "cell_type": "raw",
   "id": "6c2a7105-b52a-4030-97f9-fbfd44b5bb80",
   "metadata": {},
   "source": [
    "#Save the Task1 level1 data"
   ]
  },
  {
   "cell_type": "code",
   "execution_count": 18,
   "id": "a17dd043-9c15-488a-ae0c-071c61f4f381",
   "metadata": {},
   "outputs": [],
   "source": [
    "data.to_csv('task1_level1.csv',index=False)"
   ]
  },
  {
   "cell_type": "markdown",
   "id": "d5eba023-c8aa-4fb2-8f51-cc62aff26b3e",
   "metadata": {},
   "source": [
    "## Level 1 Task 2"
   ]
  },
  {
   "cell_type": "raw",
   "id": "c99773c1-288f-48a2-901d-3558a925670a",
   "metadata": {},
   "source": [
    "#Calculate Basic Statistical Measures"
   ]
  },
  {
   "cell_type": "code",
   "execution_count": 20,
   "id": "866d799a-44e4-41c9-be80-4410da091c4f",
   "metadata": {},
   "outputs": [
    {
     "name": "stdout",
     "output_type": "stream",
     "text": [
      "Statistic for numerical columns:\n",
      "        Restaurant ID  Country Code    Longitude     Latitude  \\\n",
      "count   9.551000e+03   9551.000000  9551.000000  9551.000000   \n",
      "mean    9.051128e+06     18.365616    64.126574    25.854381   \n",
      "std     8.791521e+06     56.750546    41.467058    11.007935   \n",
      "min     5.300000e+01      1.000000  -157.948486   -41.330428   \n",
      "25%     3.019625e+05      1.000000    77.081343    28.478713   \n",
      "50%     6.004089e+06      1.000000    77.191964    28.570469   \n",
      "75%     1.835229e+07      1.000000    77.282006    28.642758   \n",
      "max     1.850065e+07    216.000000   174.832089    55.976980   \n",
      "\n",
      "       Average Cost for two  Price range  Aggregate rating         Votes  \n",
      "count           9551.000000  9551.000000       9551.000000   9551.000000  \n",
      "mean            1199.210763     1.804837          2.666370    156.909748  \n",
      "std            16121.183073     0.905609          1.516378    430.169145  \n",
      "min                0.000000     1.000000          0.000000      0.000000  \n",
      "25%              250.000000     1.000000          2.500000      5.000000  \n",
      "50%              400.000000     2.000000          3.200000     31.000000  \n",
      "75%              700.000000     2.000000          3.700000    131.000000  \n",
      "max           800000.000000     4.000000          4.900000  10934.000000  \n"
     ]
    }
   ],
   "source": [
    "num_col = data.select_dtypes(include=['number']).columns\n",
    "print('Statistic for numerical columns:\\n',data[num_col].describe())"
   ]
  },
  {
   "cell_type": "code",
   "execution_count": null,
   "id": "a86d8409-2ae3-4452-b290-8edc1ce7d1d5",
   "metadata": {},
   "outputs": [],
   "source": []
  }
 ],
 "metadata": {
  "kernelspec": {
   "display_name": "Python [conda env:base] *",
   "language": "python",
   "name": "conda-base-py"
  },
  "language_info": {
   "codemirror_mode": {
    "name": "ipython",
    "version": 3
   },
   "file_extension": ".py",
   "mimetype": "text/x-python",
   "name": "python",
   "nbconvert_exporter": "python",
   "pygments_lexer": "ipython3",
   "version": "3.12.7"
  }
 },
 "nbformat": 4,
 "nbformat_minor": 5
}
